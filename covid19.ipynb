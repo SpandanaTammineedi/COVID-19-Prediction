{
 "cells": [
  {
   "cell_type": "code",
   "execution_count": 1,
   "metadata": {},
   "outputs": [],
   "source": [
    "import pandas as pd\n",
    "import seaborn as sns\n",
    "import matplotlib.pyplot as plt\n",
    "%matplotlib inline"
   ]
  },
  {
   "cell_type": "code",
   "execution_count": 2,
   "metadata": {},
   "outputs": [],
   "source": [
    "#read the csv file\n",
    "data = pd.read_csv('/Users/spandanatammineedi/desktop/Projects/Covid19/mexico_covid19.csv')"
   ]
  },
  {
   "cell_type": "code",
   "execution_count": 3,
   "metadata": {},
   "outputs": [
    {
     "data": {
      "text/plain": [
       "(263007, 41)"
      ]
     },
     "execution_count": 3,
     "metadata": {},
     "output_type": "execute_result"
    }
   ],
   "source": [
    "data.shape"
   ]
  },
  {
   "cell_type": "code",
   "execution_count": 4,
   "metadata": {},
   "outputs": [
    {
     "data": {
      "text/plain": [
       "<bound method NDFrame.head of              id FECHA_ARCHIVO ID_REGISTRO  ENTIDAD_UM  ENTIDAD_RES  RESULTADO  \\\n",
       "0          9269    2020-04-12      00011f          25           25          2   \n",
       "1         33333    2020-04-12      00014e          14           14          2   \n",
       "2         35483    2020-04-12      000153           8            8          1   \n",
       "3          7062    2020-04-12      0001b6           9           15          1   \n",
       "4         23745    2020-04-12      0001c1           9            9          2   \n",
       "...         ...           ...         ...         ...          ...        ...   \n",
       "263002  7094887    2020-06-03      1e019c          32           32          1   \n",
       "263003  7053721    2020-06-03      1e2b05          12           12          1   \n",
       "263004  7055429    2020-06-03      1e473f          20           20          1   \n",
       "263005  7043768    2020-06-03      1e6da1          13           13          1   \n",
       "263006  7093277    2020-06-03      1e8453           9            9          1   \n",
       "\n",
       "        DELAY  ENTIDAD_REGISTRO           ENTIDAD ABR_ENT  ... OTRA_COM  \\\n",
       "0           0                25           Sinaloa      SL  ...        2   \n",
       "1           0                14           Jalisco      JC  ...        2   \n",
       "2           0                 8         Chihuahua      CH  ...        2   \n",
       "3           0                 9  Ciudad de Mexico      DF  ...        2   \n",
       "4           0                 9  Ciudad de Mexico      DF  ...        2   \n",
       "...       ...               ...               ...     ...  ...      ...   \n",
       "263002      0                32         Zacatecas      ZS  ...        2   \n",
       "263003      0                12          Guerrero      GR  ...        2   \n",
       "263004      0                20            Oaxaca      OC  ...        2   \n",
       "263005      0                13           Hidalgo      HG  ...        2   \n",
       "263006      0                 9  Ciudad de Mexico      DF  ...        2   \n",
       "\n",
       "        CARDIOVASCULAR  OBESIDAD  RENAL_CRONICA  TABAQUISMO  OTRO_CASO  \\\n",
       "0                    2         1              2           2          2   \n",
       "1                    2         1              2           1         99   \n",
       "2                    2         2              2           2         99   \n",
       "3                    2         1              2           2         99   \n",
       "4                    2         2              2           2         99   \n",
       "...                ...       ...            ...         ...        ...   \n",
       "263002               2         2              2           2          1   \n",
       "263003               2         1              2           2         99   \n",
       "263004               2         2              1           2         99   \n",
       "263005               2         2              2           2          2   \n",
       "263006               2         2              2           2          2   \n",
       "\n",
       "        MIGRANTE PAIS_NACIONALIDAD PAIS_ORIGEN UCI  \n",
       "0             99           MÃ©xico          97  97  \n",
       "1             99           MÃ©xico          97   2  \n",
       "2             99           MÃ©xico          97   2  \n",
       "3             99           MÃ©xico          97  97  \n",
       "4             99           MÃ©xico          97  97  \n",
       "...          ...               ...         ...  ..  \n",
       "263002        99           MÃ©xico          99  97  \n",
       "263003        99           MÃ©xico          99   2  \n",
       "263004        99           MÃ©xico          99   2  \n",
       "263005        99           MÃ©xico          99   2  \n",
       "263006        99           MÃ©xico          99  97  \n",
       "\n",
       "[263007 rows x 41 columns]>"
      ]
     },
     "execution_count": 4,
     "metadata": {},
     "output_type": "execute_result"
    }
   ],
   "source": [
    "data.head"
   ]
  },
  {
   "cell_type": "code",
   "execution_count": 5,
   "metadata": {},
   "outputs": [
    {
     "data": {
      "text/plain": [
       "['id',\n",
       " 'FECHA_ARCHIVO',\n",
       " 'ID_REGISTRO',\n",
       " 'ENTIDAD_UM',\n",
       " 'ENTIDAD_RES',\n",
       " 'RESULTADO',\n",
       " 'DELAY',\n",
       " 'ENTIDAD_REGISTRO',\n",
       " 'ENTIDAD',\n",
       " 'ABR_ENT',\n",
       " 'FECHA_ACTUALIZACION',\n",
       " 'ORIGEN',\n",
       " 'SECTOR',\n",
       " 'SEXO',\n",
       " 'ENTIDAD_NAC',\n",
       " 'MUNICIPIO_RES',\n",
       " 'TIPO_PACIENTE',\n",
       " 'FECHA_INGRESO',\n",
       " 'FECHA_SINTOMAS',\n",
       " 'FECHA_DEF',\n",
       " 'INTUBADO',\n",
       " 'NEUMONIA',\n",
       " 'EDAD',\n",
       " 'NACIONALIDAD',\n",
       " 'EMBARAZO',\n",
       " 'HABLA_LENGUA_INDIG',\n",
       " 'DIABETES',\n",
       " 'EPOC',\n",
       " 'ASMA',\n",
       " 'INMUSUPR',\n",
       " 'HIPERTENSION',\n",
       " 'OTRA_COM',\n",
       " 'CARDIOVASCULAR',\n",
       " 'OBESIDAD',\n",
       " 'RENAL_CRONICA',\n",
       " 'TABAQUISMO',\n",
       " 'OTRO_CASO',\n",
       " 'MIGRANTE',\n",
       " 'PAIS_NACIONALIDAD',\n",
       " 'PAIS_ORIGEN',\n",
       " 'UCI']"
      ]
     },
     "execution_count": 5,
     "metadata": {},
     "output_type": "execute_result"
    }
   ],
   "source": [
    "list(data.columns)"
   ]
  },
  {
   "cell_type": "markdown",
   "metadata": {},
   "source": [
    "# DATA CLEANING"
   ]
  },
  {
   "cell_type": "code",
   "execution_count": 6,
   "metadata": {},
   "outputs": [],
   "source": [
    "#Create new dataframe with required columns\n",
    "subdf = data[['EDAD','SEXO','NEUMONIA','DIABETES','ASMA','HIPERTENSION','CARDIOVASCULAR','OBESIDAD','RENAL_CRONICA','TABAQUISMO','RESULTADO']]"
   ]
  },
  {
   "cell_type": "code",
   "execution_count": 7,
   "metadata": {},
   "outputs": [
    {
     "data": {
      "text/plain": [
       "<bound method NDFrame.head of 0         74\n",
       "1         71\n",
       "2         50\n",
       "3         25\n",
       "4         28\n",
       "          ..\n",
       "263002    39\n",
       "263003    53\n",
       "263004    65\n",
       "263005    71\n",
       "263006    18\n",
       "Name: EDAD, Length: 263007, dtype: int64>"
      ]
     },
     "execution_count": 7,
     "metadata": {},
     "output_type": "execute_result"
    }
   ],
   "source": [
    "subdf[\"EDAD\"].head"
   ]
  },
  {
   "cell_type": "code",
   "execution_count": 8,
   "metadata": {},
   "outputs": [],
   "source": [
    "#To change column names\n",
    "sympdf = subdf.rename(columns = {\"EDAD\" : \"Age\" ,\"SEXO\" : \"Sex\" , \"NEUMONIA\" : \"Pneumonia\" , \n",
    "                         \"DIABETES\" : \"Diabetes\" , \"ASMA\": \"Asthma\" , \"HIPERTENSION\" : \"Hypertension\" ,\n",
    "                         \"CARDIOVASCULAR\":\"Cardio_vascular\", \"OBESIDAD\":\"Obesity\" , \"RENAL_CRONICA\":\"Chronic_renal\",\n",
    "                         \"TABAQUISMO\" : \"Smoking\", \"RESULTADO\" : \"Result\"},inplace = False)"
   ]
  },
  {
   "cell_type": "code",
   "execution_count": 9,
   "metadata": {},
   "outputs": [
    {
     "data": {
      "text/plain": [
       "<bound method NDFrame.head of         Age  Sex  Pneumonia  Diabetes  Asthma  Hypertension  Cardio_vascular  \\\n",
       "0        74    2          2         1       2             1                2   \n",
       "1        71    1          2         1       2             1                2   \n",
       "2        50    2          1         2       2             2                2   \n",
       "3        25    1          2         2       2             2                2   \n",
       "4        28    1          2         2       2             2                2   \n",
       "...     ...  ...        ...       ...     ...           ...              ...   \n",
       "263002   39    2          2         2       2             2                2   \n",
       "263003   53    1          1         1       2             2                2   \n",
       "263004   65    1          2         1       2             1                2   \n",
       "263005   71    2          1         2       2             1                2   \n",
       "263006   18    1          2         2       2             2                2   \n",
       "\n",
       "        Obesity  Chronic_renal  Smoking  Result  \n",
       "0             1              2        2       2  \n",
       "1             1              2        1       2  \n",
       "2             2              2        2       1  \n",
       "3             1              2        2       1  \n",
       "4             2              2        2       2  \n",
       "...         ...            ...      ...     ...  \n",
       "263002        2              2        2       1  \n",
       "263003        1              2        2       1  \n",
       "263004        2              1        2       1  \n",
       "263005        2              2        2       1  \n",
       "263006        2              2        2       1  \n",
       "\n",
       "[263007 rows x 11 columns]>"
      ]
     },
     "execution_count": 9,
     "metadata": {},
     "output_type": "execute_result"
    }
   ],
   "source": [
    "sympdf.head"
   ]
  },
  {
   "cell_type": "code",
   "execution_count": 10,
   "metadata": {},
   "outputs": [
    {
     "data": {
      "text/plain": [
       "<bound method NDFrame.head of 0         74\n",
       "1         71\n",
       "2         50\n",
       "3         25\n",
       "4         28\n",
       "          ..\n",
       "263002    39\n",
       "263003    53\n",
       "263004    65\n",
       "263005    71\n",
       "263006    18\n",
       "Name: Age, Length: 263007, dtype: int64>"
      ]
     },
     "execution_count": 10,
     "metadata": {},
     "output_type": "execute_result"
    }
   ],
   "source": [
    "sympdf[\"Age\"].head"
   ]
  },
  {
   "cell_type": "markdown",
   "metadata": {},
   "source": [
    "## Check Unique items in each column"
   ]
  },
  {
   "cell_type": "code",
   "execution_count": 11,
   "metadata": {},
   "outputs": [
    {
     "data": {
      "text/plain": [
       "array([2, 1])"
      ]
     },
     "execution_count": 11,
     "metadata": {},
     "output_type": "execute_result"
    }
   ],
   "source": [
    "sympdf.Sex.unique()"
   ]
  },
  {
   "cell_type": "code",
   "execution_count": 12,
   "metadata": {},
   "outputs": [
    {
     "data": {
      "text/plain": [
       "array([ 74,  71,  50,  25,  28,  67,  44,  62,  30,  32,  53,  39,  42,\n",
       "        45,  23,  36,   8,  29,  34,  15,  35,  47,  19,   1,  26,  27,\n",
       "        61,  64,  63,  21,  41,  55,  43,  70,  37,  40,  31,  60,  81,\n",
       "        33,  46,  38,  13,  65,   2,  24,  99,  52,  59,  48,  17,  72,\n",
       "        54,  22,  20,   4,   7,  49,  18,  82,  84,  56,  57,  51,  73,\n",
       "        58,   0,  78,   5,  77,  11,  75,   3,  12,  89,  69,   6,  66,\n",
       "        76,  68,  83,  95,  86,  80,  14,  10,  16,  91,  90,  98,  85,\n",
       "        87,  79,   9,  88, 102,  93,  94,  96,  92, 100,  97, 101, 107,\n",
       "       109, 113, 110, 120, 105, 103, 114, 108, 106, 111, 104, 118, 115])"
      ]
     },
     "execution_count": 12,
     "metadata": {},
     "output_type": "execute_result"
    }
   ],
   "source": [
    "sympdf.Age.unique()"
   ]
  },
  {
   "cell_type": "code",
   "execution_count": 13,
   "metadata": {},
   "outputs": [
    {
     "data": {
      "text/plain": [
       "array([ 2,  1, 99])"
      ]
     },
     "execution_count": 13,
     "metadata": {},
     "output_type": "execute_result"
    }
   ],
   "source": [
    "sympdf.Pneumonia.unique()"
   ]
  },
  {
   "cell_type": "code",
   "execution_count": 14,
   "metadata": {},
   "outputs": [
    {
     "data": {
      "text/plain": [
       "array([ 1,  2, 98])"
      ]
     },
     "execution_count": 14,
     "metadata": {},
     "output_type": "execute_result"
    }
   ],
   "source": [
    "sympdf.Diabetes.unique()"
   ]
  },
  {
   "cell_type": "code",
   "execution_count": 15,
   "metadata": {},
   "outputs": [
    {
     "data": {
      "text/plain": [
       "array([ 2,  1, 98])"
      ]
     },
     "execution_count": 15,
     "metadata": {},
     "output_type": "execute_result"
    }
   ],
   "source": [
    "sympdf.Asthma.unique()"
   ]
  },
  {
   "cell_type": "code",
   "execution_count": 16,
   "metadata": {},
   "outputs": [
    {
     "data": {
      "text/plain": [
       "array([ 1,  2, 98])"
      ]
     },
     "execution_count": 16,
     "metadata": {},
     "output_type": "execute_result"
    }
   ],
   "source": [
    "sympdf.Hypertension.unique()"
   ]
  },
  {
   "cell_type": "code",
   "execution_count": 17,
   "metadata": {},
   "outputs": [
    {
     "data": {
      "text/plain": [
       "array([ 2,  1, 98])"
      ]
     },
     "execution_count": 17,
     "metadata": {},
     "output_type": "execute_result"
    }
   ],
   "source": [
    "sympdf.Cardio_vascular.unique()"
   ]
  },
  {
   "cell_type": "code",
   "execution_count": 18,
   "metadata": {},
   "outputs": [
    {
     "data": {
      "text/plain": [
       "array([ 1,  2, 98])"
      ]
     },
     "execution_count": 18,
     "metadata": {},
     "output_type": "execute_result"
    }
   ],
   "source": [
    "sympdf.Obesity.unique()"
   ]
  },
  {
   "cell_type": "code",
   "execution_count": 19,
   "metadata": {},
   "outputs": [
    {
     "data": {
      "text/plain": [
       "array([ 2,  1, 98])"
      ]
     },
     "execution_count": 19,
     "metadata": {},
     "output_type": "execute_result"
    }
   ],
   "source": [
    "sympdf.Chronic_renal.unique()"
   ]
  },
  {
   "cell_type": "code",
   "execution_count": 20,
   "metadata": {},
   "outputs": [
    {
     "data": {
      "text/plain": [
       "array([ 2,  1, 98])"
      ]
     },
     "execution_count": 20,
     "metadata": {},
     "output_type": "execute_result"
    }
   ],
   "source": [
    "sympdf.Smoking.unique()"
   ]
  },
  {
   "cell_type": "code",
   "execution_count": 21,
   "metadata": {},
   "outputs": [
    {
     "data": {
      "text/plain": [
       "array([2, 1])"
      ]
     },
     "execution_count": 21,
     "metadata": {},
     "output_type": "execute_result"
    }
   ],
   "source": [
    "sympdf.Result.unique()"
   ]
  },
  {
   "cell_type": "markdown",
   "metadata": {},
   "source": [
    "## Change the value 2 into 0 in each column and 99 in Pnemonia column to 98 so it matches the rest"
   ]
  },
  {
   "cell_type": "code",
   "execution_count": 22,
   "metadata": {},
   "outputs": [],
   "source": [
    "#symdf = sympdf[['Sex','Pneumonia','Diabetes','Asthma','Hypertension','Cardio_vascular','Obesity','Chronic_renal',\n",
    "                #'Smoking','Result']].replace({2:0},inplace = False)\n",
    "#symdf.Pneumonia.replace({99:98},inplace = True)"
   ]
  },
  {
   "cell_type": "code",
   "execution_count": 23,
   "metadata": {},
   "outputs": [],
   "source": [
    "sympdf.Sex.replace({2:0},inplace = True)"
   ]
  },
  {
   "cell_type": "code",
   "execution_count": 24,
   "metadata": {},
   "outputs": [],
   "source": [
    "sympdf.Pneumonia.replace({2:0},inplace = True)"
   ]
  },
  {
   "cell_type": "code",
   "execution_count": 25,
   "metadata": {},
   "outputs": [],
   "source": [
    "sympdf.Diabetes.replace({2:0},inplace = True)"
   ]
  },
  {
   "cell_type": "code",
   "execution_count": 26,
   "metadata": {},
   "outputs": [],
   "source": [
    "sympdf.Asthma.replace({2:0},inplace = True)"
   ]
  },
  {
   "cell_type": "code",
   "execution_count": 27,
   "metadata": {},
   "outputs": [],
   "source": [
    "sympdf.Hypertension.replace({2:0},inplace = True)"
   ]
  },
  {
   "cell_type": "code",
   "execution_count": 28,
   "metadata": {},
   "outputs": [],
   "source": [
    "sympdf.Cardio_vascular.replace({2:0},inplace = True)"
   ]
  },
  {
   "cell_type": "code",
   "execution_count": 29,
   "metadata": {},
   "outputs": [],
   "source": [
    "sympdf.Obesity.replace({2:0},inplace = True)"
   ]
  },
  {
   "cell_type": "code",
   "execution_count": 30,
   "metadata": {},
   "outputs": [],
   "source": [
    "sympdf.Chronic_renal.replace({2:0},inplace = True)"
   ]
  },
  {
   "cell_type": "code",
   "execution_count": 31,
   "metadata": {},
   "outputs": [],
   "source": [
    "sympdf.Smoking.replace({2:0},inplace = True)"
   ]
  },
  {
   "cell_type": "code",
   "execution_count": 32,
   "metadata": {},
   "outputs": [],
   "source": [
    "sympdf.Result.replace({2:0},inplace = True)"
   ]
  },
  {
   "cell_type": "code",
   "execution_count": 33,
   "metadata": {},
   "outputs": [],
   "source": [
    "sympdf.Pneumonia.replace({99:98},inplace = True)"
   ]
  },
  {
   "cell_type": "code",
   "execution_count": 34,
   "metadata": {},
   "outputs": [
    {
     "data": {
      "text/plain": [
       "array([ 0,  1, 98])"
      ]
     },
     "execution_count": 34,
     "metadata": {},
     "output_type": "execute_result"
    }
   ],
   "source": [
    "sympdf.Pneumonia.unique()"
   ]
  },
  {
   "cell_type": "code",
   "execution_count": 35,
   "metadata": {},
   "outputs": [
    {
     "data": {
      "text/plain": [
       "Age                0\n",
       "Sex                0\n",
       "Pneumonia          0\n",
       "Diabetes           0\n",
       "Asthma             0\n",
       "Hypertension       0\n",
       "Cardio_vascular    0\n",
       "Obesity            0\n",
       "Chronic_renal      0\n",
       "Smoking            0\n",
       "Result             0\n",
       "dtype: int64"
      ]
     },
     "execution_count": 35,
     "metadata": {},
     "output_type": "execute_result"
    }
   ],
   "source": [
    "sympdf.isnull().sum()"
   ]
  },
  {
   "cell_type": "markdown",
   "metadata": {},
   "source": [
    "There are no null values in the dataframe."
   ]
  },
  {
   "cell_type": "markdown",
   "metadata": {},
   "source": [
    "All the values other than Age are converted to 0 or 1 where:\n",
    "\n",
    "0 indicates negative result in results, negative symptoms for diseases and female in Sex  \n",
    "1 indicates positive result in results, positive symptoms for diseases and male in Sex  \n",
    "99 is used to fill the null values."
   ]
  },
  {
   "cell_type": "code",
   "execution_count": 36,
   "metadata": {},
   "outputs": [
    {
     "data": {
      "text/html": [
       "<div>\n",
       "<style scoped>\n",
       "    .dataframe tbody tr th:only-of-type {\n",
       "        vertical-align: middle;\n",
       "    }\n",
       "\n",
       "    .dataframe tbody tr th {\n",
       "        vertical-align: top;\n",
       "    }\n",
       "\n",
       "    .dataframe thead th {\n",
       "        text-align: right;\n",
       "    }\n",
       "</style>\n",
       "<table border=\"1\" class=\"dataframe\">\n",
       "  <thead>\n",
       "    <tr style=\"text-align: right;\">\n",
       "      <th></th>\n",
       "      <th>Age</th>\n",
       "      <th>Sex</th>\n",
       "      <th>Pneumonia</th>\n",
       "      <th>Diabetes</th>\n",
       "      <th>Asthma</th>\n",
       "      <th>Hypertension</th>\n",
       "      <th>Cardio_vascular</th>\n",
       "      <th>Obesity</th>\n",
       "      <th>Chronic_renal</th>\n",
       "      <th>Smoking</th>\n",
       "      <th>Result</th>\n",
       "    </tr>\n",
       "  </thead>\n",
       "  <tbody>\n",
       "    <tr>\n",
       "      <th>count</th>\n",
       "      <td>263007.000000</td>\n",
       "      <td>263007.000000</td>\n",
       "      <td>263007.000000</td>\n",
       "      <td>263007.000000</td>\n",
       "      <td>263007.000000</td>\n",
       "      <td>263007.000000</td>\n",
       "      <td>263007.000000</td>\n",
       "      <td>263007.000000</td>\n",
       "      <td>263007.000000</td>\n",
       "      <td>263007.000000</td>\n",
       "      <td>263007.000000</td>\n",
       "    </tr>\n",
       "    <tr>\n",
       "      <th>mean</th>\n",
       "      <td>42.591627</td>\n",
       "      <td>0.489318</td>\n",
       "      <td>0.167387</td>\n",
       "      <td>0.506025</td>\n",
       "      <td>0.380115</td>\n",
       "      <td>0.517705</td>\n",
       "      <td>0.383876</td>\n",
       "      <td>0.524830</td>\n",
       "      <td>0.370922</td>\n",
       "      <td>0.456129</td>\n",
       "      <td>0.390328</td>\n",
       "    </tr>\n",
       "    <tr>\n",
       "      <th>std</th>\n",
       "      <td>16.903824</td>\n",
       "      <td>0.499887</td>\n",
       "      <td>0.803356</td>\n",
       "      <td>6.065576</td>\n",
       "      <td>5.796225</td>\n",
       "      <td>5.844009</td>\n",
       "      <td>5.913592</td>\n",
       "      <td>5.917735</td>\n",
       "      <td>5.839516</td>\n",
       "      <td>5.978390</td>\n",
       "      <td>0.487825</td>\n",
       "    </tr>\n",
       "    <tr>\n",
       "      <th>min</th>\n",
       "      <td>0.000000</td>\n",
       "      <td>0.000000</td>\n",
       "      <td>0.000000</td>\n",
       "      <td>0.000000</td>\n",
       "      <td>0.000000</td>\n",
       "      <td>0.000000</td>\n",
       "      <td>0.000000</td>\n",
       "      <td>0.000000</td>\n",
       "      <td>0.000000</td>\n",
       "      <td>0.000000</td>\n",
       "      <td>0.000000</td>\n",
       "    </tr>\n",
       "    <tr>\n",
       "      <th>25%</th>\n",
       "      <td>31.000000</td>\n",
       "      <td>0.000000</td>\n",
       "      <td>0.000000</td>\n",
       "      <td>0.000000</td>\n",
       "      <td>0.000000</td>\n",
       "      <td>0.000000</td>\n",
       "      <td>0.000000</td>\n",
       "      <td>0.000000</td>\n",
       "      <td>0.000000</td>\n",
       "      <td>0.000000</td>\n",
       "      <td>0.000000</td>\n",
       "    </tr>\n",
       "    <tr>\n",
       "      <th>50%</th>\n",
       "      <td>41.000000</td>\n",
       "      <td>0.000000</td>\n",
       "      <td>0.000000</td>\n",
       "      <td>0.000000</td>\n",
       "      <td>0.000000</td>\n",
       "      <td>0.000000</td>\n",
       "      <td>0.000000</td>\n",
       "      <td>0.000000</td>\n",
       "      <td>0.000000</td>\n",
       "      <td>0.000000</td>\n",
       "      <td>0.000000</td>\n",
       "    </tr>\n",
       "    <tr>\n",
       "      <th>75%</th>\n",
       "      <td>53.000000</td>\n",
       "      <td>1.000000</td>\n",
       "      <td>0.000000</td>\n",
       "      <td>0.000000</td>\n",
       "      <td>0.000000</td>\n",
       "      <td>0.000000</td>\n",
       "      <td>0.000000</td>\n",
       "      <td>0.000000</td>\n",
       "      <td>0.000000</td>\n",
       "      <td>0.000000</td>\n",
       "      <td>1.000000</td>\n",
       "    </tr>\n",
       "    <tr>\n",
       "      <th>max</th>\n",
       "      <td>120.000000</td>\n",
       "      <td>1.000000</td>\n",
       "      <td>98.000000</td>\n",
       "      <td>98.000000</td>\n",
       "      <td>98.000000</td>\n",
       "      <td>98.000000</td>\n",
       "      <td>98.000000</td>\n",
       "      <td>98.000000</td>\n",
       "      <td>98.000000</td>\n",
       "      <td>98.000000</td>\n",
       "      <td>1.000000</td>\n",
       "    </tr>\n",
       "  </tbody>\n",
       "</table>\n",
       "</div>"
      ],
      "text/plain": [
       "                 Age            Sex      Pneumonia       Diabetes  \\\n",
       "count  263007.000000  263007.000000  263007.000000  263007.000000   \n",
       "mean       42.591627       0.489318       0.167387       0.506025   \n",
       "std        16.903824       0.499887       0.803356       6.065576   \n",
       "min         0.000000       0.000000       0.000000       0.000000   \n",
       "25%        31.000000       0.000000       0.000000       0.000000   \n",
       "50%        41.000000       0.000000       0.000000       0.000000   \n",
       "75%        53.000000       1.000000       0.000000       0.000000   \n",
       "max       120.000000       1.000000      98.000000      98.000000   \n",
       "\n",
       "              Asthma   Hypertension  Cardio_vascular        Obesity  \\\n",
       "count  263007.000000  263007.000000    263007.000000  263007.000000   \n",
       "mean        0.380115       0.517705         0.383876       0.524830   \n",
       "std         5.796225       5.844009         5.913592       5.917735   \n",
       "min         0.000000       0.000000         0.000000       0.000000   \n",
       "25%         0.000000       0.000000         0.000000       0.000000   \n",
       "50%         0.000000       0.000000         0.000000       0.000000   \n",
       "75%         0.000000       0.000000         0.000000       0.000000   \n",
       "max        98.000000      98.000000        98.000000      98.000000   \n",
       "\n",
       "       Chronic_renal        Smoking         Result  \n",
       "count  263007.000000  263007.000000  263007.000000  \n",
       "mean        0.370922       0.456129       0.390328  \n",
       "std         5.839516       5.978390       0.487825  \n",
       "min         0.000000       0.000000       0.000000  \n",
       "25%         0.000000       0.000000       0.000000  \n",
       "50%         0.000000       0.000000       0.000000  \n",
       "75%         0.000000       0.000000       1.000000  \n",
       "max        98.000000      98.000000       1.000000  "
      ]
     },
     "execution_count": 36,
     "metadata": {},
     "output_type": "execute_result"
    }
   ],
   "source": [
    "#Description of dataframe\n",
    "sympdf.describe()"
   ]
  },
  {
   "cell_type": "code",
   "execution_count": 37,
   "metadata": {},
   "outputs": [
    {
     "name": "stdout",
     "output_type": "stream",
     "text": [
      "<class 'pandas.core.frame.DataFrame'>\n",
      "RangeIndex: 263007 entries, 0 to 263006\n",
      "Data columns (total 11 columns):\n",
      " #   Column           Non-Null Count   Dtype\n",
      "---  ------           --------------   -----\n",
      " 0   Age              263007 non-null  int64\n",
      " 1   Sex              263007 non-null  int64\n",
      " 2   Pneumonia        263007 non-null  int64\n",
      " 3   Diabetes         263007 non-null  int64\n",
      " 4   Asthma           263007 non-null  int64\n",
      " 5   Hypertension     263007 non-null  int64\n",
      " 6   Cardio_vascular  263007 non-null  int64\n",
      " 7   Obesity          263007 non-null  int64\n",
      " 8   Chronic_renal    263007 non-null  int64\n",
      " 9   Smoking          263007 non-null  int64\n",
      " 10  Result           263007 non-null  int64\n",
      "dtypes: int64(11)\n",
      "memory usage: 22.1 MB\n"
     ]
    }
   ],
   "source": [
    "sympdf.info()"
   ]
  },
  {
   "cell_type": "code",
   "execution_count": 39,
   "metadata": {},
   "outputs": [],
   "source": [
    "data_group_by = sympdf.groupby(['Result'])\n",
    "data_balanced = data_group_by.apply(lambda x : x.sample(data_group_by.size().min()).reset_index(drop = True))\n",
    "data_balanced = data_balanced.droplevel(['Result'])"
   ]
  },
  {
   "cell_type": "code",
   "execution_count": 40,
   "metadata": {},
   "outputs": [
    {
     "data": {
      "text/plain": [
       "Result\n",
       "0    102659\n",
       "1    102659\n",
       "dtype: int64"
      ]
     },
     "execution_count": 40,
     "metadata": {},
     "output_type": "execute_result"
    }
   ],
   "source": [
    "data_balanced.groupby(['Result']).size()\n"
   ]
  },
  {
   "cell_type": "code",
   "execution_count": 41,
   "metadata": {},
   "outputs": [
    {
     "data": {
      "text/plain": [
       "<AxesSubplot:xlabel='Result', ylabel='count'>"
      ]
     },
     "execution_count": 41,
     "metadata": {},
     "output_type": "execute_result"
    },
    {
     "data": {
      "image/png": "[encoded data removed]",
      "text/plain": [
       "<Figure size 432x288 with 1 Axes>"
      ]
     },
     "metadata": {
      "needs_background": "light"
     },
     "output_type": "display_data"
    }
   ],
   "source": [
    "sns.countplot(x = 'Result',data = data_balanced)"
   ]
  },
  {
   "cell_type": "code",
   "execution_count": 42,
   "metadata": {},
   "outputs": [
    {
     "data": {
      "text/plain": [
       "<AxesSubplot:>"
      ]
     },
     "execution_count": 42,
     "metadata": {},
     "output_type": "execute_result"
    },
    {
     "data": {
      "image/png": "[encoded data removed]",
      "text/plain": [
       "<Figure size 864x504 with 2 Axes>"
      ]
     },
     "metadata": {
      "needs_background": "light"
     },
     "output_type": "display_data"
    }
   ],
   "source": [
    "plt.figure(figsize = (12,7))\n",
    "sns.heatmap(data_balanced.corr(),annot = True, fmt = '.1g', cmap = 'coolwarm')"
   ]
  },
  {
   "cell_type": "code",
   "execution_count": 43,
   "metadata": {},
   "outputs": [],
   "source": [
    "from sklearn.utils import shuffle\n",
    "data_balanced = shuffle(data_balanced)"
   ]
  },
  {
   "cell_type": "code",
   "execution_count": 45,
   "metadata": {},
   "outputs": [],
   "source": [
    "from sklearn.model_selection import train_test_split\n",
    "X1_train, X1_test, y1_train, y1_test = train_test_split(data_balanced.drop('Result',axis=1), \n",
    "                                                    data_balanced['Result'], test_size=0.20, \n",
    "                                                    random_state=101)"
   ]
  },
  {
   "cell_type": "code",
   "execution_count": 46,
   "metadata": {},
   "outputs": [],
   "source": [
    "from sklearn.tree import DecisionTreeClassifier"
   ]
  },
  {
   "cell_type": "code",
   "execution_count": 47,
   "metadata": {},
   "outputs": [],
   "source": [
    "dtree = DecisionTreeClassifier()"
   ]
  },
  {
   "cell_type": "code",
   "execution_count": 49,
   "metadata": {},
   "outputs": [
    {
     "data": {
      "text/plain": [
       "DecisionTreeClassifier()"
      ]
     },
     "execution_count": 49,
     "metadata": {},
     "output_type": "execute_result"
    }
   ],
   "source": [
    "dtree.fit(X1_train,y1_train)"
   ]
  },
  {
   "cell_type": "code",
   "execution_count": 50,
   "metadata": {},
   "outputs": [],
   "source": [
    "DTpredictions = dtree.predict(X1_test)"
   ]
  },
  {
   "cell_type": "code",
   "execution_count": 51,
   "metadata": {},
   "outputs": [],
   "source": [
    "from sklearn.metrics import classification_report"
   ]
  },
  {
   "cell_type": "code",
   "execution_count": 52,
   "metadata": {},
   "outputs": [
    {
     "name": "stdout",
     "output_type": "stream",
     "text": [
      "              precision    recall  f1-score   support\n",
      "\n",
      "           0       0.58      0.70      0.63     20301\n",
      "           1       0.63      0.50      0.56     20763\n",
      "\n",
      "    accuracy                           0.60     41064\n",
      "   macro avg       0.60      0.60      0.59     41064\n",
      "weighted avg       0.60      0.60      0.59     41064\n",
      "\n"
     ]
    }
   ],
   "source": [
    "print(classification_report(y1_test,DTpredictions))"
   ]
  },
  {
   "cell_type": "code",
   "execution_count": 53,
   "metadata": {},
   "outputs": [
    {
     "data": {
      "text/plain": [
       "{'Decision Tree Accuracy': 0.5968001168907072}"
      ]
     },
     "execution_count": 53,
     "metadata": {},
     "output_type": "execute_result"
    }
   ],
   "source": [
    "# import accuracy_score function from scikit learn\n",
    "from sklearn.metrics import accuracy_score\n",
    "\n",
    "#calculate the accuracy\n",
    "accuracy={}\n",
    "accuracy ['Decision Tree Accuracy']=accuracy_score(y1_test,DTpredictions)\n",
    "# model.evaluate(X_test, y_test, verbose=1)\n",
    "\n",
    "#print the accuracy\n",
    "accuracy"
   ]
  },
  {
   "cell_type": "markdown",
   "metadata": {},
   "source": [
    "# DATA VISUALIZATION"
   ]
  },
  {
   "cell_type": "code",
   "execution_count": 40,
   "metadata": {},
   "outputs": [
    {
     "data": {
      "text/plain": [
       "<AxesSubplot:xlabel='Sex', ylabel='count'>"
      ]
     },
     "execution_count": 40,
     "metadata": {},
     "output_type": "execute_result"
    },
    {
     "data": {
      "image/png": "[encoded data removed]",
      "text/plain": [
       "<Figure size 432x288 with 1 Axes>"
      ]
     },
     "metadata": {
      "needs_background": "light"
     },
     "output_type": "display_data"
    }
   ],
   "source": [
    "sns.countplot(x = 'Sex',data = sympdf)"
   ]
  },
  {
   "cell_type": "code",
   "execution_count": 41,
   "metadata": {},
   "outputs": [
    {
     "data": {
      "text/plain": [
       "<AxesSubplot:xlabel='Result', ylabel='count'>"
      ]
     },
     "execution_count": 41,
     "metadata": {},
     "output_type": "execute_result"
    },
    {
     "data": {
      "image/png": "[encoded data removed]",
      "text/plain": [
       "<Figure size 432x288 with 1 Axes>"
      ]
     },
     "metadata": {
      "needs_background": "light"
     },
     "output_type": "display_data"
    }
   ],
   "source": [
    "sns.countplot(x = 'Result',data = sympdf)"
   ]
  },
  {
   "cell_type": "code",
   "execution_count": 42,
   "metadata": {},
   "outputs": [
    {
     "data": {
      "text/plain": [
       "<AxesSubplot:xlabel='Sex', ylabel='count'>"
      ]
     },
     "execution_count": 42,
     "metadata": {},
     "output_type": "execute_result"
    },
    {
     "data": {
      "image/png": "[encoded data removed]",
      "text/plain": [
       "<Figure size 432x288 with 1 Axes>"
      ]
     },
     "metadata": {
      "needs_background": "light"
     },
     "output_type": "display_data"
    }
   ],
   "source": [
    "sns.countplot(x = 'Sex',data = sympdf)"
   ]
  },
  {
   "cell_type": "code",
   "execution_count": 43,
   "metadata": {},
   "outputs": [],
   "source": [
    "#Age"
   ]
  },
  {
   "cell_type": "code",
   "execution_count": 44,
   "metadata": {},
   "outputs": [
    {
     "data": {
      "text/plain": [
       "<AxesSubplot:xlabel='Result', ylabel='Age'>"
      ]
     },
     "execution_count": 44,
     "metadata": {},
     "output_type": "execute_result"
    },
    {
     "data": {
      "image/png": "[encoded data removed]",
      "text/plain": [
       "<Figure size 864x504 with 1 Axes>"
      ]
     },
     "metadata": {
      "needs_background": "light"
     },
     "output_type": "display_data"
    }
   ],
   "source": [
    "plt.figure(figsize=(12, 7))\n",
    "sns.boxplot(x='Result',y='Age',data=sympdf,palette='winter')"
   ]
  },
  {
   "cell_type": "markdown",
   "metadata": {},
   "source": [
    "## CORRELATION"
   ]
  },
  {
   "cell_type": "code",
   "execution_count": 45,
   "metadata": {},
   "outputs": [
    {
     "data": {
      "text/plain": [
       "<AxesSubplot:>"
      ]
     },
     "execution_count": 45,
     "metadata": {},
     "output_type": "execute_result"
    },
    {
     "data": {
      "image/png": "[encoded data removed]",
      "text/plain": [
       "<Figure size 864x504 with 2 Axes>"
      ]
     },
     "metadata": {
      "needs_background": "light"
     },
     "output_type": "display_data"
    }
   ],
   "source": [
    "plt.figure(figsize = (12,7))\n",
    "sns.heatmap(sympdf.corr(),annot = True, fmt = '.1g', cmap = 'coolwarm')"
   ]
  },
  {
   "cell_type": "markdown",
   "metadata": {},
   "source": [
    "All the dependent variables have a weak positive correlation with the independent variable i.e, result."
   ]
  },
  {
   "cell_type": "markdown",
   "metadata": {},
   "source": [
    "# MACHINE LEARNING "
   ]
  },
  {
   "cell_type": "markdown",
   "metadata": {},
   "source": [
    "#### SPLIT DATA INTO TRAINING AND TESTING DATA"
   ]
  },
  {
   "cell_type": "code",
   "execution_count": 72,
   "metadata": {},
   "outputs": [],
   "source": [
    "from sklearn.model_selection import train_test_split"
   ]
  },
  {
   "cell_type": "code",
   "execution_count": 73,
   "metadata": {},
   "outputs": [],
   "source": [
    "X_train, X_test, y_train, y_test = train_test_split(sympdf.drop('Result',axis=1), \n",
    "                                                    sympdf['Result'], test_size=0.20, \n",
    "                                                    random_state=101)"
   ]
  },
  {
   "cell_type": "markdown",
   "metadata": {},
   "source": [
    "## LOGISTIC REGRESSION"
   ]
  },
  {
   "cell_type": "code",
   "execution_count": 74,
   "metadata": {},
   "outputs": [],
   "source": [
    "from sklearn.linear_model import LogisticRegression"
   ]
  },
  {
   "cell_type": "code",
   "execution_count": 75,
   "metadata": {},
   "outputs": [
    {
     "data": {
      "text/plain": [
       "LogisticRegression(max_iter=270000)"
      ]
     },
     "execution_count": 75,
     "metadata": {},
     "output_type": "execute_result"
    }
   ],
   "source": [
    "logmodel = LogisticRegression(max_iter = 270000)\n",
    "logmodel.fit(X_train,y_train)"
   ]
  },
  {
   "cell_type": "code",
   "execution_count": 76,
   "metadata": {},
   "outputs": [],
   "source": [
    "predictions = logmodel.predict(X_test)"
   ]
  },
  {
   "cell_type": "code",
   "execution_count": 77,
   "metadata": {},
   "outputs": [],
   "source": [
    "from sklearn.metrics import classification_report"
   ]
  },
  {
   "cell_type": "code",
   "execution_count": 78,
   "metadata": {},
   "outputs": [
    {
     "name": "stdout",
     "output_type": "stream",
     "text": [
      "              precision    recall  f1-score   support\n",
      "\n",
      "           0       0.65      0.89      0.75     32070\n",
      "           1       0.60      0.25      0.36     20532\n",
      "\n",
      "    accuracy                           0.64     52602\n",
      "   macro avg       0.63      0.57      0.55     52602\n",
      "weighted avg       0.63      0.64      0.60     52602\n",
      "\n"
     ]
    }
   ],
   "source": [
    "print(classification_report(y_test,predictions))"
   ]
  },
  {
   "cell_type": "code",
   "execution_count": 80,
   "metadata": {},
   "outputs": [],
   "source": [
    "from sklearn.metrics import confusion_matrix"
   ]
  },
  {
   "cell_type": "raw",
   "metadata": {},
   "source": [
    "64% accuracy is obtained"
   ]
  },
  {
   "cell_type": "markdown",
   "metadata": {},
   "source": [
    "## DECISION TREES"
   ]
  },
  {
   "cell_type": "code",
   "execution_count": 59,
   "metadata": {},
   "outputs": [],
   "source": [
    "from sklearn.tree import DecisionTreeClassifier"
   ]
  },
  {
   "cell_type": "code",
   "execution_count": 60,
   "metadata": {},
   "outputs": [],
   "source": [
    "dtree = DecisionTreeClassifier()"
   ]
  },
  {
   "cell_type": "code",
   "execution_count": 61,
   "metadata": {},
   "outputs": [
    {
     "data": {
      "text/plain": [
       "DecisionTreeClassifier()"
      ]
     },
     "execution_count": 61,
     "metadata": {},
     "output_type": "execute_result"
    }
   ],
   "source": [
    "dtree.fit(X_train,y_train)"
   ]
  },
  {
   "cell_type": "code",
   "execution_count": 62,
   "metadata": {},
   "outputs": [],
   "source": [
    "DTpredictions = dtree.predict(X_test)"
   ]
  },
  {
   "cell_type": "code",
   "execution_count": 63,
   "metadata": {},
   "outputs": [
    {
     "name": "stdout",
     "output_type": "stream",
     "text": [
      "              precision    recall  f1-score   support\n",
      "\n",
      "           0       0.66      0.87      0.75     32070\n",
      "           1       0.59      0.28      0.38     20532\n",
      "\n",
      "    accuracy                           0.64     52602\n",
      "   macro avg       0.62      0.58      0.56     52602\n",
      "weighted avg       0.63      0.64      0.61     52602\n",
      "\n"
     ]
    }
   ],
   "source": [
    "print(classification_report(y_test,DTpredictions))"
   ]
  },
  {
   "cell_type": "code",
   "execution_count": 64,
   "metadata": {},
   "outputs": [
    {
     "name": "stdout",
     "output_type": "stream",
     "text": [
      "[[28640  3430]\n",
      " [15347  5185]]\n"
     ]
    }
   ],
   "source": [
    "print(confusion_matrix(y_test,predictions))"
   ]
  },
  {
   "cell_type": "code",
   "execution_count": null,
   "metadata": {},
   "outputs": [],
   "source": [
    "(5185+28640)/(5185)"
   ]
  },
  {
   "cell_type": "markdown",
   "metadata": {},
   "source": [
    "## NEURAL NETWORK"
   ]
  },
  {
   "cell_type": "code",
   "execution_count": 46,
   "metadata": {},
   "outputs": [],
   "source": [
    "X = sympdf.drop('Result',axis = 1).values\n",
    "y = sympdf['Result'].values"
   ]
  },
  {
   "cell_type": "code",
   "execution_count": 47,
   "metadata": {},
   "outputs": [],
   "source": [
    "from sklearn.model_selection import train_test_split"
   ]
  },
  {
   "cell_type": "code",
   "execution_count": 48,
   "metadata": {},
   "outputs": [],
   "source": [
    "X_train, X_test, y_train, y_test = train_test_split(X, y, test_size=0.3, random_state=42)"
   ]
  },
  {
   "cell_type": "code",
   "execution_count": 49,
   "metadata": {},
   "outputs": [],
   "source": [
    "from sklearn.preprocessing import MinMaxScaler"
   ]
  },
  {
   "cell_type": "code",
   "execution_count": 50,
   "metadata": {},
   "outputs": [],
   "source": [
    "scaler = MinMaxScaler()"
   ]
  },
  {
   "cell_type": "code",
   "execution_count": 51,
   "metadata": {},
   "outputs": [],
   "source": [
    "X_train = scaler.fit_transform(X_train)"
   ]
  },
  {
   "cell_type": "code",
   "execution_count": 52,
   "metadata": {},
   "outputs": [],
   "source": [
    "X_test = scaler.transform(X_test)"
   ]
  },
  {
   "cell_type": "code",
   "execution_count": 53,
   "metadata": {},
   "outputs": [],
   "source": [
    "from tensorflow.keras.models import Sequential"
   ]
  },
  {
   "cell_type": "code",
   "execution_count": 54,
   "metadata": {},
   "outputs": [],
   "source": [
    "from tensorflow.keras.layers import Dense,Dropout"
   ]
  },
  {
   "cell_type": "code",
   "execution_count": 55,
   "metadata": {},
   "outputs": [
    {
     "data": {
      "text/plain": [
       "(184104, 10)"
      ]
     },
     "execution_count": 55,
     "metadata": {},
     "output_type": "execute_result"
    }
   ],
   "source": [
    "X_train.shape"
   ]
  },
  {
   "cell_type": "code",
   "execution_count": 56,
   "metadata": {},
   "outputs": [],
   "source": [
    "model = Sequential()\n",
    "\n",
    "model.add(Dense(10,activation = 'relu'))\n",
    "model.add(Dense(5,activation = 'relu'))\n",
    "#Binary Classification\n",
    "model.add(Dense(1,activation = 'sigmoid'))\n",
    "model.compile(loss = 'binary_crossentropy',optimizer = 'adam')"
   ]
  },
  {
   "cell_type": "code",
   "execution_count": 57,
   "metadata": {},
   "outputs": [
    {
     "name": "stderr",
     "output_type": "stream",
     "text": [
      "2021-11-10 16:29:06.502017: I tensorflow/core/platform/cpu_feature_guard.cc:145] This TensorFlow binary is optimized with Intel(R) MKL-DNN to use the following CPU instructions in performance critical operations:  SSE4.1 SSE4.2 AVX AVX2 FMA\n",
      "To enable them in non-MKL-DNN operations, rebuild TensorFlow with the appropriate compiler flags.\n",
      "2021-11-10 16:29:06.505043: I tensorflow/core/common_runtime/process_util.cc:115] Creating new thread pool with default inter op setting: 8. Tune using inter_op_parallelism_threads for best performance.\n"
     ]
    },
    {
     "name": "stdout",
     "output_type": "stream",
     "text": [
      "Train on 184104 samples, validate on 78903 samples\n",
      "Epoch 1/50\n",
      "184104/184104 [==============================] - 12s 65us/sample - loss: 0.6497 - val_loss: 0.6447\n",
      "Epoch 2/50\n",
      "184104/184104 [==============================] - 11s 57us/sample - loss: 0.6422 - val_loss: 0.6387\n",
      "Epoch 3/50\n",
      "184104/184104 [==============================] - 11s 59us/sample - loss: 0.6376 - val_loss: 0.6367\n",
      "Epoch 4/50\n",
      "184104/184104 [==============================] - 11s 60us/sample - loss: 0.6361 - val_loss: 0.6366\n",
      "Epoch 5/50\n",
      "184104/184104 [==============================] - 11s 61us/sample - loss: 0.6356 - val_loss: 0.6351\n",
      "Epoch 6/50\n",
      "184104/184104 [==============================] - 11s 59us/sample - loss: 0.6348 - val_loss: 0.6347\n",
      "Epoch 7/50\n",
      "184104/184104 [==============================] - 12s 63us/sample - loss: 0.6344 - val_loss: 0.6370\n",
      "Epoch 8/50\n",
      "184104/184104 [==============================] - 12s 64us/sample - loss: 0.6340 - val_loss: 0.6341\n",
      "Epoch 9/50\n",
      "184104/184104 [==============================] - 11s 62us/sample - loss: 0.6338 - val_loss: 0.6342\n",
      "Epoch 10/50\n",
      "184104/184104 [==============================] - 12s 63us/sample - loss: 0.6337 - val_loss: 0.6337\n",
      "Epoch 11/50\n",
      "184104/184104 [==============================] - 11s 61us/sample - loss: 0.6335 - val_loss: 0.6349\n",
      "Epoch 12/50\n",
      "184104/184104 [==============================] - 11s 61us/sample - loss: 0.6332 - val_loss: 0.6342\n",
      "Epoch 13/50\n",
      "184104/184104 [==============================] - 11s 62us/sample - loss: 0.6332 - val_loss: 0.6345\n",
      "Epoch 14/50\n",
      "184104/184104 [==============================] - 12s 66us/sample - loss: 0.6332 - val_loss: 0.6344\n",
      "Epoch 15/50\n",
      "184104/184104 [==============================] - 12s 65us/sample - loss: 0.6331 - val_loss: 0.6342\n",
      "Epoch 16/50\n",
      "184104/184104 [==============================] - 12s 63us/sample - loss: 0.6330 - val_loss: 0.6338\n",
      "Epoch 17/50\n",
      "184104/184104 [==============================] - 12s 65us/sample - loss: 0.6329 - val_loss: 0.6352\n",
      "Epoch 18/50\n",
      "184104/184104 [==============================] - 12s 63us/sample - loss: 0.6328 - val_loss: 0.6336\n",
      "Epoch 19/50\n",
      "184104/184104 [==============================] - 12s 65us/sample - loss: 0.6328 - val_loss: 0.6338\n",
      "Epoch 20/50\n",
      "184104/184104 [==============================] - 12s 64us/sample - loss: 0.6327 - val_loss: 0.6330\n",
      "Epoch 21/50\n",
      "184104/184104 [==============================] - 12s 68us/sample - loss: 0.6327 - val_loss: 0.6350\n",
      "Epoch 22/50\n",
      "184104/184104 [==============================] - 12s 67us/sample - loss: 0.6328 - val_loss: 0.6350\n",
      "Epoch 23/50\n",
      "184104/184104 [==============================] - 12s 63us/sample - loss: 0.6327 - val_loss: 0.6341\n",
      "Epoch 24/50\n",
      "184104/184104 [==============================] - 12s 64us/sample - loss: 0.6326 - val_loss: 0.6337\n",
      "Epoch 25/50\n",
      "184104/184104 [==============================] - 12s 65us/sample - loss: 0.6326 - val_loss: 0.6333\n",
      "Epoch 26/50\n",
      "184104/184104 [==============================] - 13s 70us/sample - loss: 0.6326 - val_loss: 0.6346\n",
      "Epoch 27/50\n",
      "184104/184104 [==============================] - 12s 64us/sample - loss: 0.6325 - val_loss: 0.6333\n",
      "Epoch 28/50\n",
      "184104/184104 [==============================] - 12s 64us/sample - loss: 0.6327 - val_loss: 0.6330\n",
      "Epoch 29/50\n",
      "184104/184104 [==============================] - 12s 64us/sample - loss: 0.6325 - val_loss: 0.6334\n",
      "Epoch 30/50\n",
      "184104/184104 [==============================] - 12s 64us/sample - loss: 0.6324 - val_loss: 0.6357\n",
      "Epoch 31/50\n",
      "184104/184104 [==============================] - 13s 72us/sample - loss: 0.6324 - val_loss: 0.6330\n",
      "Epoch 32/50\n",
      "184104/184104 [==============================] - 12s 65us/sample - loss: 0.6323 - val_loss: 0.6338\n",
      "Epoch 33/50\n",
      "184104/184104 [==============================] - 12s 65us/sample - loss: 0.6324 - val_loss: 0.6332\n",
      "Epoch 34/50\n",
      "184104/184104 [==============================] - 12s 64us/sample - loss: 0.6324 - val_loss: 0.6328\n",
      "Epoch 35/50\n",
      "184104/184104 [==============================] - 12s 63us/sample - loss: 0.6323 - val_loss: 0.6339\n",
      "Epoch 36/50\n",
      "184104/184104 [==============================] - 12s 64us/sample - loss: 0.6324 - val_loss: 0.6330\n",
      "Epoch 37/50\n",
      "184104/184104 [==============================] - 13s 69us/sample - loss: 0.6322 - val_loss: 0.6346\n",
      "Epoch 38/50\n",
      "184104/184104 [==============================] - 12s 65us/sample - loss: 0.6322 - val_loss: 0.6327\n",
      "Epoch 39/50\n",
      "184104/184104 [==============================] - 12s 65us/sample - loss: 0.6323 - val_loss: 0.6329\n",
      "Epoch 40/50\n",
      "184104/184104 [==============================] - 12s 64us/sample - loss: 0.6322 - val_loss: 0.6329\n",
      "Epoch 41/50\n",
      "184104/184104 [==============================] - 12s 63us/sample - loss: 0.6322 - val_loss: 0.6329\n",
      "Epoch 42/50\n",
      "184104/184104 [==============================] - 12s 65us/sample - loss: 0.6321 - val_loss: 0.6333\n",
      "Epoch 43/50\n",
      "184104/184104 [==============================] - 13s 72us/sample - loss: 0.6321 - val_loss: 0.6338\n",
      "Epoch 44/50\n",
      "184104/184104 [==============================] - 12s 67us/sample - loss: 0.6322 - val_loss: 0.6334\n",
      "Epoch 45/50\n",
      "184104/184104 [==============================] - 12s 63us/sample - loss: 0.6321 - val_loss: 0.6345\n",
      "Epoch 46/50\n",
      "184104/184104 [==============================] - 12s 65us/sample - loss: 0.6321 - val_loss: 0.6331\n",
      "Epoch 47/50\n",
      "184104/184104 [==============================] - 13s 69us/sample - loss: 0.6321 - val_loss: 0.6328\n",
      "Epoch 48/50\n",
      "184104/184104 [==============================] - 12s 67us/sample - loss: 0.6321 - val_loss: 0.6336\n",
      "Epoch 49/50\n",
      "184104/184104 [==============================] - 12s 67us/sample - loss: 0.6320 - val_loss: 0.6327\n",
      "Epoch 50/50\n",
      "184104/184104 [==============================] - 13s 69us/sample - loss: 0.6321 - val_loss: 0.6330\n"
     ]
    },
    {
     "data": {
      "text/plain": [
       "<tensorflow.python.keras.callbacks.History at 0x7fa3de21e890>"
      ]
     },
     "execution_count": 57,
     "metadata": {},
     "output_type": "execute_result"
    }
   ],
   "source": [
    "model.fit(x = X_train,y= y_train,epochs = 50,validation_data = (X_test,y_test))"
   ]
  },
  {
   "cell_type": "code",
   "execution_count": 58,
   "metadata": {},
   "outputs": [],
   "source": [
    "losses = pd.DataFrame(model.history.history)"
   ]
  },
  {
   "cell_type": "code",
   "execution_count": 59,
   "metadata": {},
   "outputs": [
    {
     "data": {
      "text/plain": [
       "<AxesSubplot:>"
      ]
     },
     "execution_count": 59,
     "metadata": {},
     "output_type": "execute_result"
    },
    {
     "data": {
      "image/png": "[encoded data removed]",
      "text/plain": [
       "<Figure size 432x288 with 1 Axes>"
      ]
     },
     "metadata": {
      "needs_background": "light"
     },
     "output_type": "display_data"
    }
   ],
   "source": [
    "losses.plot()"
   ]
  },
  {
   "cell_type": "code",
   "execution_count": null,
   "metadata": {},
   "outputs": [],
   "source": []
  },
  {
   "cell_type": "code",
   "execution_count": null,
   "metadata": {},
   "outputs": [],
   "source": [
    "model = Sequential()\n",
    "\n",
    "model.add(Dense(10,activation = 'relu'))\n",
    "model.add(Dense(5,activation = 'relu'))\n",
    "#Binary Classification\n",
    "model.add(Dense(1,activation = 'sigmoid'))\n",
    "model.compile(loss = 'binary_crossentropy',optimizer = 'adam')"
   ]
  },
  {
   "cell_type": "code",
   "execution_count": null,
   "metadata": {},
   "outputs": [],
   "source": [
    "model.fit(x = X_train,y= y_train,epochs = 50,validation_data = (X_test,y_test))"
   ]
  },
  {
   "cell_type": "code",
   "execution_count": 60,
   "metadata": {},
   "outputs": [],
   "source": [
    "predictions = model.predict_classes(X_test)"
   ]
  },
  {
   "cell_type": "code",
   "execution_count": 61,
   "metadata": {},
   "outputs": [],
   "source": [
    "from sklearn.metrics import classification_report,confusion_matrix"
   ]
  },
  {
   "cell_type": "code",
   "execution_count": 62,
   "metadata": {},
   "outputs": [
    {
     "name": "stdout",
     "output_type": "stream",
     "text": [
      "              precision    recall  f1-score   support\n",
      "\n",
      "           0       0.65      0.90      0.76     48041\n",
      "           1       0.63      0.26      0.37     30862\n",
      "\n",
      "    accuracy                           0.65     78903\n",
      "   macro avg       0.64      0.58      0.56     78903\n",
      "weighted avg       0.64      0.65      0.61     78903\n",
      "\n"
     ]
    }
   ],
   "source": [
    "print(classification_report(y_test,predictions))"
   ]
  },
  {
   "cell_type": "code",
   "execution_count": 63,
   "metadata": {},
   "outputs": [
    {
     "name": "stdout",
     "output_type": "stream",
     "text": [
      "[[43238  4803]\n",
      " [22776  8086]]\n"
     ]
    }
   ],
   "source": [
    "print(confusion_matrix(y_test,predictions))"
   ]
  },
  {
   "cell_type": "code",
   "execution_count": null,
   "metadata": {},
   "outputs": [],
   "source": []
  },
  {
   "cell_type": "code",
   "execution_count": null,
   "metadata": {},
   "outputs": [],
   "source": []
  },
  {
   "cell_type": "code",
   "execution_count": 64,
   "metadata": {},
   "outputs": [],
   "source": [
    "from tensorflow.keras.layers import Dropout\n",
    "from tensorflow.keras.callbacks import EarlyStopping"
   ]
  },
  {
   "cell_type": "code",
   "execution_count": 65,
   "metadata": {},
   "outputs": [],
   "source": [
    "early_stop = EarlyStopping(monitor = 'val_loss', mode = 'min', verbose = 1, patience = 25)"
   ]
  },
  {
   "cell_type": "code",
   "execution_count": 66,
   "metadata": {},
   "outputs": [],
   "source": [
    "model = Sequential()\n",
    "\n",
    "model.add(Dense(10,activation = 'relu'))\n",
    "model.add(Dropout(0.5))\n",
    "model.add(Dense(5,activation = 'relu'))\n",
    "model.add(Dropout(0.5))\n",
    "#Binary Classification\n",
    "model.add(Dense(1,activation = 'sigmoid'))\n",
    "model.compile(loss = 'binary_crossentropy',optimizer = 'adam')"
   ]
  },
  {
   "cell_type": "code",
   "execution_count": 68,
   "metadata": {},
   "outputs": [
    {
     "name": "stdout",
     "output_type": "stream",
     "text": [
      "Train on 184104 samples, validate on 78903 samples\n",
      "Epoch 1/500\n",
      "184104/184104 [==============================] - 12s 66us/sample - loss: 0.6609 - val_loss: 0.6551\n",
      "Epoch 2/500\n",
      "184104/184104 [==============================] - 12s 67us/sample - loss: 0.6599 - val_loss: 0.6551\n",
      "Epoch 3/500\n",
      "184104/184104 [==============================] - 12s 65us/sample - loss: 0.6593 - val_loss: 0.6525\n",
      "Epoch 4/500\n",
      "184104/184104 [==============================] - 12s 66us/sample - loss: 0.6589 - val_loss: 0.6527\n",
      "Epoch 5/500\n",
      "184104/184104 [==============================] - 12s 66us/sample - loss: 0.6574 - val_loss: 0.6499\n",
      "Epoch 6/500\n",
      "184104/184104 [==============================] - 12s 66us/sample - loss: 0.6562 - val_loss: 0.6467\n",
      "Epoch 7/500\n",
      "184104/184104 [==============================] - 12s 67us/sample - loss: 0.6550 - val_loss: 0.6481\n",
      "Epoch 8/500\n",
      "184104/184104 [==============================] - 13s 69us/sample - loss: 0.6551 - val_loss: 0.6455\n",
      "Epoch 9/500\n",
      "184104/184104 [==============================] - 12s 67us/sample - loss: 0.6548 - val_loss: 0.6464\n",
      "Epoch 10/500\n",
      "184104/184104 [==============================] - 14s 74us/sample - loss: 0.6552 - val_loss: 0.6463\n",
      "Epoch 11/500\n",
      "184104/184104 [==============================] - 14s 75us/sample - loss: 0.6541 - val_loss: 0.6476\n",
      "Epoch 12/500\n",
      "184104/184104 [==============================] - 13s 71us/sample - loss: 0.6541 - val_loss: 0.6458\n",
      "Epoch 13/500\n",
      "184104/184104 [==============================] - 13s 72us/sample - loss: 0.6538 - val_loss: 0.6456\n",
      "Epoch 14/500\n",
      "184104/184104 [==============================] - 13s 72us/sample - loss: 0.6531 - val_loss: 0.6461\n",
      "Epoch 15/500\n",
      "184104/184104 [==============================] - 13s 72us/sample - loss: 0.6535 - val_loss: 0.6456\n",
      "Epoch 16/500\n",
      "184104/184104 [==============================] - 13s 70us/sample - loss: 0.6539 - val_loss: 0.6457\n",
      "Epoch 17/500\n",
      "184104/184104 [==============================] - 13s 71us/sample - loss: 0.6532 - val_loss: 0.6453\n",
      "Epoch 18/500\n",
      "184104/184104 [==============================] - 13s 71us/sample - loss: 0.6531 - val_loss: 0.6459\n",
      "Epoch 19/500\n",
      "184104/184104 [==============================] - 13s 71us/sample - loss: 0.6539 - val_loss: 0.6445\n",
      "Epoch 20/500\n",
      "184104/184104 [==============================] - 13s 72us/sample - loss: 0.6522 - val_loss: 0.6446\n",
      "Epoch 21/500\n",
      "184104/184104 [==============================] - 13s 70us/sample - loss: 0.6531 - val_loss: 0.6424\n",
      "Epoch 22/500\n",
      "184104/184104 [==============================] - 13s 72us/sample - loss: 0.6529 - val_loss: 0.6453\n",
      "Epoch 23/500\n",
      "184104/184104 [==============================] - 13s 72us/sample - loss: 0.6521 - val_loss: 0.6451\n",
      "Epoch 24/500\n",
      "184104/184104 [==============================] - 13s 73us/sample - loss: 0.6536 - val_loss: 0.6444\n",
      "Epoch 25/500\n",
      "184104/184104 [==============================] - 13s 71us/sample - loss: 0.6526 - val_loss: 0.6438\n",
      "Epoch 26/500\n",
      "184104/184104 [==============================] - 13s 72us/sample - loss: 0.6519 - val_loss: 0.6459\n",
      "Epoch 27/500\n",
      "184104/184104 [==============================] - 13s 70us/sample - loss: 0.6532 - val_loss: 0.6446\n",
      "Epoch 28/500\n",
      "184104/184104 [==============================] - 13s 71us/sample - loss: 0.6524 - val_loss: 0.6448\n",
      "Epoch 29/500\n",
      "184104/184104 [==============================] - 13s 71us/sample - loss: 0.6525 - val_loss: 0.6438\n",
      "Epoch 30/500\n",
      "184104/184104 [==============================] - 13s 70us/sample - loss: 0.6521 - val_loss: 0.6441\n",
      "Epoch 31/500\n",
      "184104/184104 [==============================] - 13s 69us/sample - loss: 0.6517 - val_loss: 0.6440\n",
      "Epoch 32/500\n",
      "184104/184104 [==============================] - 13s 72us/sample - loss: 0.6526 - val_loss: 0.6473\n",
      "Epoch 33/500\n",
      "184104/184104 [==============================] - 13s 71us/sample - loss: 0.6519 - val_loss: 0.6429\n",
      "Epoch 34/500\n",
      "184104/184104 [==============================] - 13s 69us/sample - loss: 0.6518 - val_loss: 0.6427\n",
      "Epoch 35/500\n",
      "184104/184104 [==============================] - 13s 71us/sample - loss: 0.6528 - val_loss: 0.6421\n",
      "Epoch 36/500\n",
      "184104/184104 [==============================] - 13s 69us/sample - loss: 0.6522 - val_loss: 0.6448\n",
      "Epoch 37/500\n",
      "184104/184104 [==============================] - 13s 71us/sample - loss: 0.6509 - val_loss: 0.6432\n",
      "Epoch 38/500\n",
      "184104/184104 [==============================] - 13s 69us/sample - loss: 0.6526 - val_loss: 0.6436\n",
      "Epoch 39/500\n",
      "184104/184104 [==============================] - 13s 71us/sample - loss: 0.6522 - val_loss: 0.6437\n",
      "Epoch 40/500\n",
      "184104/184104 [==============================] - 13s 69us/sample - loss: 0.6526 - val_loss: 0.6429\n",
      "Epoch 41/500\n",
      "184104/184104 [==============================] - 13s 71us/sample - loss: 0.6539 - val_loss: 0.6447\n",
      "Epoch 42/500\n",
      "184104/184104 [==============================] - 13s 71us/sample - loss: 0.6525 - val_loss: 0.6435\n",
      "Epoch 43/500\n",
      "184104/184104 [==============================] - 13s 69us/sample - loss: 0.6526 - val_loss: 0.6435\n",
      "Epoch 44/500\n",
      "184104/184104 [==============================] - 13s 71us/sample - loss: 0.6528 - val_loss: 0.6455\n",
      "Epoch 45/500\n",
      "184104/184104 [==============================] - 13s 70us/sample - loss: 0.6526 - val_loss: 0.6440\n",
      "Epoch 46/500\n",
      "184104/184104 [==============================] - 13s 71us/sample - loss: 0.6530 - val_loss: 0.6447\n",
      "Epoch 47/500\n",
      "184104/184104 [==============================] - 13s 71us/sample - loss: 0.6516 - val_loss: 0.6448\n",
      "Epoch 48/500\n",
      "184104/184104 [==============================] - 13s 70us/sample - loss: 0.6521 - val_loss: 0.6438\n",
      "Epoch 49/500\n",
      "184104/184104 [==============================] - 13s 70us/sample - loss: 0.6532 - val_loss: 0.6447\n",
      "Epoch 50/500\n",
      "184104/184104 [==============================] - 13s 69us/sample - loss: 0.6526 - val_loss: 0.6450\n",
      "Epoch 51/500\n",
      "184104/184104 [==============================] - 13s 71us/sample - loss: 0.6527 - val_loss: 0.6444\n",
      "Epoch 52/500\n",
      "184104/184104 [==============================] - 13s 71us/sample - loss: 0.6522 - val_loss: 0.6450\n",
      "Epoch 53/500\n",
      "184104/184104 [==============================] - 13s 72us/sample - loss: 0.6517 - val_loss: 0.6430\n",
      "Epoch 54/500\n",
      "184104/184104 [==============================] - 13s 69us/sample - loss: 0.6516 - val_loss: 0.6462\n",
      "Epoch 55/500\n",
      "184104/184104 [==============================] - 13s 70us/sample - loss: 0.6521 - val_loss: 0.6444\n",
      "Epoch 56/500\n",
      "184104/184104 [==============================] - 13s 73us/sample - loss: 0.6510 - val_loss: 0.6434\n",
      "Epoch 57/500\n",
      "184104/184104 [==============================] - 14s 73us/sample - loss: 0.6532 - val_loss: 0.6429\n",
      "Epoch 58/500\n",
      "184104/184104 [==============================] - 13s 71us/sample - loss: 0.6523 - val_loss: 0.6444\n",
      "Epoch 59/500\n",
      "184104/184104 [==============================] - 13s 72us/sample - loss: 0.6523 - val_loss: 0.6439\n",
      "Epoch 60/500\n",
      "184104/184104 [==============================] - 13s 72us/sample - loss: 0.6518 - val_loss: 0.6418\n",
      "Epoch 61/500\n",
      "184104/184104 [==============================] - 13s 73us/sample - loss: 0.6514 - val_loss: 0.6439\n",
      "Epoch 62/500\n",
      "184104/184104 [==============================] - 13s 72us/sample - loss: 0.6531 - val_loss: 0.6450\n",
      "Epoch 63/500\n",
      "184104/184104 [==============================] - 13s 72us/sample - loss: 0.6530 - val_loss: 0.6442\n",
      "Epoch 64/500\n",
      "184104/184104 [==============================] - 13s 71us/sample - loss: 0.6524 - val_loss: 0.6443\n",
      "Epoch 65/500\n",
      "184104/184104 [==============================] - 13s 72us/sample - loss: 0.6512 - val_loss: 0.6439\n",
      "Epoch 66/500\n",
      "184104/184104 [==============================] - 13s 73us/sample - loss: 0.6526 - val_loss: 0.6441\n",
      "Epoch 67/500\n",
      "184104/184104 [==============================] - 13s 71us/sample - loss: 0.6523 - val_loss: 0.6443\n",
      "Epoch 68/500\n",
      "184104/184104 [==============================] - 14s 74us/sample - loss: 0.6509 - val_loss: 0.6437\n",
      "Epoch 69/500\n",
      "184104/184104 [==============================] - 14s 75us/sample - loss: 0.6525 - val_loss: 0.6449\n",
      "Epoch 70/500\n",
      "184104/184104 [==============================] - 13s 72us/sample - loss: 0.6521 - val_loss: 0.6439\n",
      "Epoch 71/500\n",
      "184104/184104 [==============================] - 13s 73us/sample - loss: 0.6525 - val_loss: 0.6446\n",
      "Epoch 72/500\n",
      "184104/184104 [==============================] - 13s 72us/sample - loss: 0.6524 - val_loss: 0.6435\n",
      "Epoch 73/500\n",
      "184104/184104 [==============================] - 14s 74us/sample - loss: 0.6529 - val_loss: 0.6451\n"
     ]
    },
    {
     "name": "stdout",
     "output_type": "stream",
     "text": [
      "Epoch 74/500\n",
      "184104/184104 [==============================] - 13s 71us/sample - loss: 0.6519 - val_loss: 0.6433\n",
      "Epoch 75/500\n",
      "184104/184104 [==============================] - 13s 69us/sample - loss: 0.6523 - val_loss: 0.6442\n",
      "Epoch 76/500\n",
      "184104/184104 [==============================] - 13s 70us/sample - loss: 0.6512 - val_loss: 0.6433\n",
      "Epoch 77/500\n",
      "184104/184104 [==============================] - 13s 70us/sample - loss: 0.6528 - val_loss: 0.6442\n",
      "Epoch 78/500\n",
      "184104/184104 [==============================] - 13s 69us/sample - loss: 0.6517 - val_loss: 0.6439\n",
      "Epoch 79/500\n",
      "184104/184104 [==============================] - 13s 71us/sample - loss: 0.6515 - val_loss: 0.6439\n",
      "Epoch 80/500\n",
      "184104/184104 [==============================] - 13s 71us/sample - loss: 0.6528 - val_loss: 0.6433\n",
      "Epoch 81/500\n",
      "184104/184104 [==============================] - 13s 72us/sample - loss: 0.6520 - val_loss: 0.6442\n",
      "Epoch 82/500\n",
      "184104/184104 [==============================] - 13s 69us/sample - loss: 0.6517 - val_loss: 0.6436\n",
      "Epoch 83/500\n",
      "184104/184104 [==============================] - 13s 71us/sample - loss: 0.6528 - val_loss: 0.6433\n",
      "Epoch 84/500\n",
      "184104/184104 [==============================] - 13s 73us/sample - loss: 0.6521 - val_loss: 0.6423\n",
      "Epoch 85/500\n",
      "184104/184104 [==============================] - 13s 70us/sample - loss: 0.6526 - val_loss: 0.6449\n",
      "Epoch 00085: early stopping\n"
     ]
    },
    {
     "data": {
      "text/plain": [
       "<tensorflow.python.keras.callbacks.History at 0x7fa34e0f75d0>"
      ]
     },
     "execution_count": 68,
     "metadata": {},
     "output_type": "execute_result"
    }
   ],
   "source": [
    "model.fit(x = X_train,y= y_train,epochs = 500,validation_data = (X_test,y_test),callbacks = [early_stop])"
   ]
  },
  {
   "cell_type": "code",
   "execution_count": 69,
   "metadata": {},
   "outputs": [
    {
     "data": {
      "text/plain": [
       "<AxesSubplot:>"
      ]
     },
     "execution_count": 69,
     "metadata": {},
     "output_type": "execute_result"
    },
    {
     "data": {
      "image/png": "[encoded data removed]",
      "text/plain": [
       "<Figure size 432x288 with 1 Axes>"
      ]
     },
     "metadata": {
      "needs_background": "light"
     },
     "output_type": "display_data"
    }
   ],
   "source": [
    "losses = pd.DataFrame(model.history.history)\n",
    "losses.plot()"
   ]
  },
  {
   "cell_type": "code",
   "execution_count": 70,
   "metadata": {},
   "outputs": [],
   "source": [
    "predictions = model.predict_classes(X_test)"
   ]
  },
  {
   "cell_type": "code",
   "execution_count": 71,
   "metadata": {},
   "outputs": [
    {
     "name": "stdout",
     "output_type": "stream",
     "text": [
      "              precision    recall  f1-score   support\n",
      "\n",
      "           0       0.63      0.96      0.76     48041\n",
      "           1       0.67      0.12      0.20     30862\n",
      "\n",
      "    accuracy                           0.63     78903\n",
      "   macro avg       0.65      0.54      0.48     78903\n",
      "weighted avg       0.65      0.63      0.54     78903\n",
      "\n"
     ]
    }
   ],
   "source": [
    "print(classification_report(y_test,predictions))"
   ]
  },
  {
   "cell_type": "code",
   "execution_count": null,
   "metadata": {},
   "outputs": [],
   "source": []
  }
 ],
 "metadata": {
  "kernelspec": {
   "display_name": "Python 3 (ipykernel)",
   "language": "python",
   "name": "python3"
  },
  "language_info": {
   "codemirror_mode": {
    "name": "ipython",
    "version": 3
   },
   "file_extension": ".py",
   "mimetype": "text/x-python",
   "name": "python",
   "nbconvert_exporter": "python",
   "pygments_lexer": "ipython3",
   "version": "3.7.11"
  }
 },
 "nbformat": 4,
 "nbformat_minor": 4
}
